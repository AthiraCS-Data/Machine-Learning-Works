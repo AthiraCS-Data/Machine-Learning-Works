{
 "cells": [
  {
   "cell_type": "code",
   "execution_count": 3,
   "id": "9fa90fd1-c5a6-4f0f-b881-6037eb0eb7be",
   "metadata": {},
   "outputs": [],
   "source": [
    "import pandas as pd\n",
    "import numpy as np\n",
    "import matplotlib.pyplot as plt\n",
    "from sklearn.datasets import load_digits"
   ]
  },
  {
   "cell_type": "code",
   "execution_count": 7,
   "id": "2c64b14e-de98-4da9-9dd3-a67fcd3f567e",
   "metadata": {},
   "outputs": [],
   "source": [
    "digits=load_digits()\n",
    "X=digits.data\n",
    "y=digits.target\n"
   ]
  },
  {
   "cell_type": "code",
   "execution_count": 11,
   "id": "d5c33d90-ceb9-4ca4-b5ab-772bdbeb79d5",
   "metadata": {},
   "outputs": [],
   "source": [
    "from sklearn.model_selection import train_test_split\n",
    "X_train, X_test, y_train, y_test = train_test_split(X, y, test_size=0.2)"
   ]
  },
  {
   "cell_type": "code",
   "execution_count": 17,
   "id": "eab86a98-368c-4dbe-8119-23e783062df4",
   "metadata": {},
   "outputs": [
    {
     "name": "stdout",
     "output_type": "stream",
     "text": [
      "\n",
      " Best Accuracy: 0.9861111111111112 with K = 3\n"
     ]
    }
   ],
   "source": [
    "from sklearn.neighbors import KNeighborsClassifier\n",
    "best_score=0\n",
    "best_k=0\n",
    "\n",
    "for k in range(1, 21): \n",
    "    model = KNeighborsClassifier(n_neighbors=k)\n",
    "    model.fit(X_train, y_train)\n",
    "    score = model.score(X_test, y_test)\n",
    "    \n",
    "    if score > best_score:\n",
    "        best_score = score\n",
    "        best_k = k\n",
    "\n",
    "print(f\"\\n Best Accuracy: {best_score:} with K = {best_k}\")"
   ]
  },
  {
   "cell_type": "markdown",
   "id": "e6d40135-c6e4-4b50-bfa6-9de0fcaf64e7",
   "metadata": {},
   "source": [
    "CONFUSION MATRIX"
   ]
  },
  {
   "cell_type": "code",
   "execution_count": 21,
   "id": "93dd758f-2365-4e1b-bc0e-fabcf11dd711",
   "metadata": {},
   "outputs": [
    {
     "data": {
      "text/plain": [
       "array([[38,  0,  0,  0,  0,  0,  0,  0,  0,  0],\n",
       "       [ 0, 38,  0,  0,  0,  0,  0,  0,  0,  0],\n",
       "       [ 0,  0, 36,  0,  0,  0,  0,  0,  0,  0],\n",
       "       [ 0,  0,  0, 36,  0,  0,  0,  0,  0,  0],\n",
       "       [ 0,  0,  0,  0, 33,  0,  0,  1,  1,  0],\n",
       "       [ 0,  0,  0,  0,  0, 36,  0,  0,  0,  0],\n",
       "       [ 0,  0,  0,  0,  0,  0, 42,  0,  0,  0],\n",
       "       [ 0,  0,  0,  0,  0,  0,  0, 36,  0,  0],\n",
       "       [ 0,  2,  0,  1,  0,  0,  0,  0, 30,  0],\n",
       "       [ 0,  0,  0,  0,  0,  2,  0,  2,  0, 26]], dtype=int64)"
      ]
     },
     "execution_count": 21,
     "metadata": {},
     "output_type": "execute_result"
    }
   ],
   "source": [
    "from sklearn.metrics import confusion_matrix\n",
    "y_pred = model.predict(X_test)\n",
    "cm=confusion_matrix(y_test,y_pred)\n",
    "cm"
   ]
  },
  {
   "cell_type": "code",
   "execution_count": 23,
   "id": "e02971e1-c503-43d2-aadf-5a82f80fe065",
   "metadata": {},
   "outputs": [
    {
     "data": {
      "image/png": "[encoded data removed]",
      "text/plain": [
       "<Figure size 640x480 with 2 Axes>"
      ]
     },
     "metadata": {},
     "output_type": "display_data"
    }
   ],
   "source": [
    "import matplotlib.pyplot as plt\n",
    "from sklearn.metrics import confusion_matrix, ConfusionMatrixDisplay\n",
    "cm = confusion_matrix(y_test, y_pred)\n",
    "disp = ConfusionMatrixDisplay(confusion_matrix=cm)\n",
    "disp.plot(cmap='magma')  \n",
    "plt.show()"
   ]
  },
  {
   "cell_type": "markdown",
   "id": "1ba8742e-d3bb-4f00-a83d-f5ff77d5eb34",
   "metadata": {},
   "source": [
    "CLASSIFICATION REPORT"
   ]
  },
  {
   "cell_type": "code",
   "execution_count": 27,
   "id": "ebf9a1d8-69dc-47dd-8a78-ee8002f34c37",
   "metadata": {},
   "outputs": [
    {
     "name": "stdout",
     "output_type": "stream",
     "text": [
      "              precision    recall  f1-score   support\n",
      "\n",
      "           0       1.00      1.00      1.00        38\n",
      "           1       0.95      1.00      0.97        38\n",
      "           2       1.00      1.00      1.00        36\n",
      "           3       0.97      1.00      0.99        36\n",
      "           4       1.00      0.94      0.97        35\n",
      "           5       0.95      1.00      0.97        36\n",
      "           6       1.00      1.00      1.00        42\n",
      "           7       0.92      1.00      0.96        36\n",
      "           8       0.97      0.91      0.94        33\n",
      "           9       1.00      0.87      0.93        30\n",
      "\n",
      "    accuracy                           0.97       360\n",
      "   macro avg       0.98      0.97      0.97       360\n",
      "weighted avg       0.98      0.97      0.97       360\n",
      "\n"
     ]
    }
   ],
   "source": [
    "from sklearn.metrics import classification_report\n",
    "print(classification_report(y_test, y_pred))"
   ]
  },
  {
   "cell_type": "code",
   "execution_count": null,
   "id": "17661e72-d5e2-471c-87ad-54f79db1dd61",
   "metadata": {},
   "outputs": [],
   "source": []
  }
 ],
 "metadata": {
  "kernelspec": {
   "display_name": "Python [conda env:base] *",
   "language": "python",
   "name": "conda-base-py"
  },
  "language_info": {
   "codemirror_mode": {
    "name": "ipython",
    "version": 3
   },
   "file_extension": ".py",
   "mimetype": "text/x-python",
   "name": "python",
   "nbconvert_exporter": "python",
   "pygments_lexer": "ipython3",
   "version": "3.12.7"
  }
 },
 "nbformat": 4,
 "nbformat_minor": 5
}
